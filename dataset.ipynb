{
  "nbformat": 4,
  "nbformat_minor": 0,
  "metadata": {
    "colab": {
      "name": "dataset.ipynb",
      "provenance": [],
      "mount_file_id": "15VMh8KctWE7U-ghPwCx3Y8U2qzuDNUFg",
      "authorship_tag": "ABX9TyNOHwtYe9wweW8hvKUrVpwr",
      "include_colab_link": true
    },
    "kernelspec": {
      "name": "python3",
      "display_name": "Python 3"
    },
    "accelerator": "GPU"
  },
  "cells": [
    {
      "cell_type": "markdown",
      "metadata": {
        "id": "view-in-github",
        "colab_type": "text"
      },
      "source": [
        "<a href=\"https://colab.research.google.com/github/sho12333/face-detect/blob/master/dataset.ipynb\" target=\"_parent\"><img src=\"https://colab.research.google.com/assets/colab-badge.svg\" alt=\"Open In Colab\"/></a>"
      ]
    },
    {
      "cell_type": "markdown",
      "metadata": {
        "id": "ZW9WBWvdRQKN",
        "colab_type": "text"
      },
      "source": [
        "# **顔検出**"
      ]
    },
    {
      "cell_type": "markdown",
      "metadata": {
        "id": "g0TCUTVhTH60",
        "colab_type": "text"
      },
      "source": [
        "#icrawler 収集"
      ]
    },
    {
      "cell_type": "code",
      "metadata": {
        "id": "MJ54qWgwGpsQ",
        "colab_type": "code",
        "colab": {
          "base_uri": "https://localhost:8080/",
          "height": 271
        },
        "outputId": "1774199b-caf6-4cc8-9afa-91bf92caac81"
      },
      "source": [
        "!pip install icrawler"
      ],
      "execution_count": null,
      "outputs": [
        {
          "output_type": "stream",
          "text": [
            "Collecting icrawler\n",
            "  Downloading https://files.pythonhosted.org/packages/89/de/71d154b1fe181ee1a4afae5d10451856ef4689b3fd72d93cc55f31d2886a/icrawler-0.6.3-py2.py3-none-any.whl\n",
            "Requirement already satisfied: lxml in /usr/local/lib/python3.6/dist-packages (from icrawler) (4.2.6)\n",
            "Requirement already satisfied: six>=1.10.0 in /usr/local/lib/python3.6/dist-packages (from icrawler) (1.15.0)\n",
            "Requirement already satisfied: beautifulsoup4>=4.4.1 in /usr/local/lib/python3.6/dist-packages (from icrawler) (4.6.3)\n",
            "Requirement already satisfied: Pillow in /usr/local/lib/python3.6/dist-packages (from icrawler) (7.0.0)\n",
            "Requirement already satisfied: requests>=2.9.1 in /usr/local/lib/python3.6/dist-packages (from icrawler) (2.23.0)\n",
            "Requirement already satisfied: certifi>=2017.4.17 in /usr/local/lib/python3.6/dist-packages (from requests>=2.9.1->icrawler) (2020.6.20)\n",
            "Requirement already satisfied: urllib3!=1.25.0,!=1.25.1,<1.26,>=1.21.1 in /usr/local/lib/python3.6/dist-packages (from requests>=2.9.1->icrawler) (1.24.3)\n",
            "Requirement already satisfied: idna<3,>=2.5 in /usr/local/lib/python3.6/dist-packages (from requests>=2.9.1->icrawler) (2.10)\n",
            "Requirement already satisfied: chardet<4,>=3.0.2 in /usr/local/lib/python3.6/dist-packages (from requests>=2.9.1->icrawler) (3.0.4)\n",
            "Installing collected packages: icrawler\n",
            "Successfully installed icrawler-0.6.3\n"
          ],
          "name": "stdout"
        }
      ]
    },
    {
      "cell_type": "code",
      "metadata": {
        "id": "qOkuM5BTGpn6",
        "colab_type": "code",
        "colab": {
          "base_uri": "https://localhost:8080/",
          "height": 1000
        },
        "outputId": "f9740fd0-6e43-490e-8ede-2fd9dc52b7ea"
      },
      "source": [
        "from icrawler.builtin import BingImageCrawler\n",
        "crawler = BingImageCrawler(storage={\"root_dir\": \"hasimoto\"})\n",
        "crawler.crawl(keyword=\"橋本奈々未\", max_num=100)"
      ],
      "execution_count": null,
      "outputs": [
        {
          "output_type": "stream",
          "text": [
            "2020-07-26 04:35:11,479 - INFO - icrawler.crawler - start crawling...\n",
            "2020-07-26 04:35:11,479 - INFO - icrawler.crawler - starting 1 feeder threads...\n",
            "2020-07-26 04:35:11,480 - INFO - feeder - thread feeder-001 exit\n",
            "2020-07-26 04:35:11,481 - INFO - icrawler.crawler - starting 1 parser threads...\n",
            "2020-07-26 04:35:11,490 - INFO - icrawler.crawler - starting 1 downloader threads...\n",
            "2020-07-26 04:35:11,919 - INFO - parser - parsing result page https://www.bing.com/images/async?q=橋本奈々未&first=0\n",
            "2020-07-26 04:35:12,895 - INFO - downloader - image #1\thttp://ww4.sinaimg.cn/mw690/9b80f674jw1ezilnuzebvj20tz18gdsb.jpg\n",
            "2020-07-26 04:35:15,519 - INFO - downloader - image #2\thttps://attach.getjetso.com/forum/attachments/month_1501/20150129_bcbbb6bd782145cbad646bN3a0.jpg\n",
            "2020-07-26 04:35:15,899 - INFO - downloader - image #3\thttps://i.pinimg.com/736x/39/dd/49/39dd49d28a72027651d76bcd2ace6c83.jpg\n",
            "2020-07-26 04:35:18,326 - INFO - downloader - image #4\thttps://attach.getjetso.com/forum/attachments/month_1501/20150129_ee0a1eda31e49d399f1aHow0nU.jpg\n",
            "2020-07-26 04:35:20,734 - INFO - downloader - image #5\thttps://newimg.uumtu.com/Ximg/2015/1216/03/145023394958806.jpg\n",
            "2020-07-26 04:35:20,907 - INFO - downloader - image #6\thttp://www.meinvsj.com/uploads/allimg/170709/10-1FF9160423.jpg\n",
            "2020-07-26 04:35:22,929 - INFO - downloader - image #7\thttps://attach.getjetso.com/forum/attachments/month_1501/20150129_13dc78011acc691955154aMj91.jpg\n",
            "2020-07-26 04:35:23,100 - ERROR - downloader - Response status code 403, file https://img.xsnvshen.com/album/15855/16724/004.jpg\n",
            "2020-07-26 04:35:27,480 - ERROR - downloader - Exception caught when downloading file https://img.onvshen.com:85/gallery/15855/16724/023.jpg, error: Exceeded 30 redirects., remaining retry times: 2\n",
            "2020-07-26 04:35:30,722 - ERROR - downloader - Exception caught when downloading file https://img.onvshen.com:85/gallery/15855/16724/023.jpg, error: Exceeded 30 redirects., remaining retry times: 1\n",
            "2020-07-26 04:35:33,522 - ERROR - downloader - Exception caught when downloading file https://img.onvshen.com:85/gallery/15855/16724/023.jpg, error: Exceeded 30 redirects., remaining retry times: 0\n",
            "2020-07-26 04:35:33,743 - INFO - downloader - image #8\thttps://i.pinimg.com/originals/bd/05/8b/bd058b5ac78e480d9614a02d44f77301.jpg\n",
            "2020-07-26 04:35:33,830 - ERROR - downloader - Response status code 403, file http://img.xsnvshen.com/album/15855/16724/012.jpg\n",
            "2020-07-26 04:35:36,743 - ERROR - downloader - Exception caught when downloading file https://img.onvshen.com:85/gallery/15855/16724/029.jpg, error: Exceeded 30 redirects., remaining retry times: 2\n",
            "2020-07-26 04:35:39,498 - ERROR - downloader - Exception caught when downloading file https://img.onvshen.com:85/gallery/15855/16724/029.jpg, error: Exceeded 30 redirects., remaining retry times: 1\n",
            "2020-07-26 04:35:42,423 - ERROR - downloader - Exception caught when downloading file https://img.onvshen.com:85/gallery/15855/16724/029.jpg, error: Exceeded 30 redirects., remaining retry times: 0\n",
            "2020-07-26 04:35:42,496 - INFO - downloader - image #9\thttp://www.meinvsj.com/uploads/allimg/170709/10-1FF9160430-50.jpg\n",
            "2020-07-26 04:35:42,663 - INFO - parser - parsing result page https://www.bing.com/images/async?q=橋本奈々未&first=20\n",
            "2020-07-26 04:35:43,105 - INFO - downloader - image #10\thttp://p4.music.126.net/YuZvSYfvmIEZ9MVgYxWJfA==/109951163016412009.jpg\n",
            "2020-07-26 04:35:43,232 - ERROR - downloader - Exception caught when downloading file https://ii.hywly.com/a/1/29442/16.jpg, error: HTTPSConnectionPool(host='ii.hywly.com', port=443): Max retries exceeded with url: /a/1/29442/16.jpg (Caused by NewConnectionError('<urllib3.connection.VerifiedHTTPSConnection object at 0x7efee5bf7908>: Failed to establish a new connection: [Errno -2] Name or service not known',)), remaining retry times: 2\n",
            "2020-07-26 04:35:43,238 - ERROR - downloader - Exception caught when downloading file https://ii.hywly.com/a/1/29442/16.jpg, error: HTTPSConnectionPool(host='ii.hywly.com', port=443): Max retries exceeded with url: /a/1/29442/16.jpg (Caused by NewConnectionError('<urllib3.connection.VerifiedHTTPSConnection object at 0x7efee57a7e80>: Failed to establish a new connection: [Errno -2] Name or service not known',)), remaining retry times: 1\n",
            "2020-07-26 04:35:43,244 - ERROR - downloader - Exception caught when downloading file https://ii.hywly.com/a/1/29442/16.jpg, error: HTTPSConnectionPool(host='ii.hywly.com', port=443): Max retries exceeded with url: /a/1/29442/16.jpg (Caused by NewConnectionError('<urllib3.connection.VerifiedHTTPSConnection object at 0x7efee57a7dd8>: Failed to establish a new connection: [Errno -2] Name or service not known',)), remaining retry times: 0\n",
            "2020-07-26 04:35:43,284 - ERROR - downloader - Response status code 403, file http://img.xsnvshen.com/album/15855/12494/008.jpg\n",
            "2020-07-26 04:35:43,331 - ERROR - downloader - Response status code 403, file https://img.xsnvshen.com/album/15855/16724/010.jpg\n",
            "2020-07-26 04:35:46,062 - ERROR - downloader - Exception caught when downloading file https://img.onvshen.com:85/gallery/15855/16724/027.jpg, error: Exceeded 30 redirects., remaining retry times: 2\n",
            "2020-07-26 04:35:49,224 - ERROR - downloader - Exception caught when downloading file https://img.onvshen.com:85/gallery/15855/16724/027.jpg, error: Exceeded 30 redirects., remaining retry times: 1\n",
            "2020-07-26 04:35:52,056 - ERROR - downloader - Exception caught when downloading file https://img.onvshen.com:85/gallery/15855/16724/027.jpg, error: Exceeded 30 redirects., remaining retry times: 0\n",
            "2020-07-26 04:35:52,077 - INFO - downloader - image #11\thttps://i.pinimg.com/originals/5a/5c/c5/5a5cc5041b44a39a05b3eddf1f6ebbb1.jpg\n",
            "2020-07-26 04:35:52,614 - INFO - downloader - image #12\thttp://222.186.12.239:10010/qbnnwsj_140630/004.jpg\n",
            "2020-07-26 04:35:53,375 - INFO - downloader - image #13\thttps://static.wixstatic.com/media/b2a968_6bf6bbbb47a446c2b4b1788f415361ff~mv2.jpg\n",
            "2020-07-26 04:35:53,483 - INFO - downloader - image #14\thttp://www.meinvsj.com/uploads/allimg/170709/10-1FF9163241.jpg\n",
            "2020-07-26 04:35:56,567 - INFO - downloader - image #15\thttps://www.m1ok.com/upload/images/p1di55to3e1m6g2fg19mh42tinvl.jpg\n",
            "2020-07-26 04:35:57,003 - INFO - downloader - image #16\thttp://pic.pimg.tw/sarshi1223/1368455030-604181675_n.jpg\n",
            "2020-07-26 04:35:57,274 - INFO - downloader - image #17\thttp://i1.hdslb.com/bfs/archive/97dfeb84bc58d19d0b7a3f9957b7efe4bf78cd85.jpg\n",
            "2020-07-26 04:35:57,707 - INFO - downloader - image #18\thttp://pic.pimg.tw/sarshi1223/1368455034-772440293_n.jpg\n",
            "2020-07-26 04:35:57,953 - INFO - parser - parsing result page https://www.bing.com/images/async?q=橋本奈々未&first=40\n",
            "2020-07-26 04:36:00,360 - ERROR - downloader - Exception caught when downloading file https://img.onvshen.com:85/gallery/15855/16724/0.jpg, error: Exceeded 30 redirects., remaining retry times: 2\n",
            "2020-07-26 04:36:03,809 - ERROR - downloader - Exception caught when downloading file https://img.onvshen.com:85/gallery/15855/16724/0.jpg, error: Exceeded 30 redirects., remaining retry times: 1\n",
            "2020-07-26 04:36:06,638 - ERROR - downloader - Exception caught when downloading file https://img.onvshen.com:85/gallery/15855/16724/0.jpg, error: Exceeded 30 redirects., remaining retry times: 0\n",
            "2020-07-26 04:36:07,022 - INFO - downloader - image #19\thttps://newimg.uumtu.com/Ximg/2015/1216/03/145023398237197.jpg\n",
            "2020-07-26 04:36:07,034 - ERROR - downloader - Exception caught when downloading file https://ii.hywly.com/a/1/30986/4.jpg, error: HTTPSConnectionPool(host='ii.hywly.com', port=443): Max retries exceeded with url: /a/1/30986/4.jpg (Caused by NewConnectionError('<urllib3.connection.VerifiedHTTPSConnection object at 0x7efee58c0e10>: Failed to establish a new connection: [Errno -2] Name or service not known',)), remaining retry times: 2\n",
            "2020-07-26 04:36:07,039 - ERROR - downloader - Exception caught when downloading file https://ii.hywly.com/a/1/30986/4.jpg, error: HTTPSConnectionPool(host='ii.hywly.com', port=443): Max retries exceeded with url: /a/1/30986/4.jpg (Caused by NewConnectionError('<urllib3.connection.VerifiedHTTPSConnection object at 0x7efee5b85be0>: Failed to establish a new connection: [Errno -2] Name or service not known',)), remaining retry times: 1\n",
            "2020-07-26 04:36:07,045 - ERROR - downloader - Exception caught when downloading file https://ii.hywly.com/a/1/30986/4.jpg, error: HTTPSConnectionPool(host='ii.hywly.com', port=443): Max retries exceeded with url: /a/1/30986/4.jpg (Caused by NewConnectionError('<urllib3.connection.VerifiedHTTPSConnection object at 0x7efee5b85da0>: Failed to establish a new connection: [Errno -2] Name or service not known',)), remaining retry times: 0\n",
            "2020-07-26 04:36:07,128 - INFO - downloader - image #20\thttp://www.meinvsj.com/uploads/allimg/170709/10-1FF9160427.jpg\n",
            "2020-07-26 04:36:07,136 - ERROR - downloader - Exception caught when downloading file https://ii.hywly.com/a/1/9325/11.jpg, error: HTTPSConnectionPool(host='ii.hywly.com', port=443): Max retries exceeded with url: /a/1/9325/11.jpg (Caused by NewConnectionError('<urllib3.connection.VerifiedHTTPSConnection object at 0x7efee5b85be0>: Failed to establish a new connection: [Errno -2] Name or service not known',)), remaining retry times: 2\n",
            "2020-07-26 04:36:07,142 - ERROR - downloader - Exception caught when downloading file https://ii.hywly.com/a/1/9325/11.jpg, error: HTTPSConnectionPool(host='ii.hywly.com', port=443): Max retries exceeded with url: /a/1/9325/11.jpg (Caused by NewConnectionError('<urllib3.connection.VerifiedHTTPSConnection object at 0x7efee5b85a58>: Failed to establish a new connection: [Errno -2] Name or service not known',)), remaining retry times: 1\n",
            "2020-07-26 04:36:07,148 - ERROR - downloader - Exception caught when downloading file https://ii.hywly.com/a/1/9325/11.jpg, error: HTTPSConnectionPool(host='ii.hywly.com', port=443): Max retries exceeded with url: /a/1/9325/11.jpg (Caused by NewConnectionError('<urllib3.connection.VerifiedHTTPSConnection object at 0x7efee5759ac8>: Failed to establish a new connection: [Errno -2] Name or service not known',)), remaining retry times: 0\n",
            "2020-07-26 04:36:07,195 - INFO - downloader - image #21\thttp://www.meinvsj.com/uploads/allimg/170709/10-1FF9160425.jpg\n",
            "2020-07-26 04:36:07,202 - ERROR - downloader - Exception caught when downloading file https://ii.hywly.com/a/1/30922/1.jpg, error: HTTPSConnectionPool(host='ii.hywly.com', port=443): Max retries exceeded with url: /a/1/30922/1.jpg (Caused by NewConnectionError('<urllib3.connection.VerifiedHTTPSConnection object at 0x7efee5b1e588>: Failed to establish a new connection: [Errno -2] Name or service not known',)), remaining retry times: 2\n",
            "2020-07-26 04:36:07,209 - ERROR - downloader - Exception caught when downloading file https://ii.hywly.com/a/1/30922/1.jpg, error: HTTPSConnectionPool(host='ii.hywly.com', port=443): Max retries exceeded with url: /a/1/30922/1.jpg (Caused by NewConnectionError('<urllib3.connection.VerifiedHTTPSConnection object at 0x7efee5b73be0>: Failed to establish a new connection: [Errno -2] Name or service not known',)), remaining retry times: 1\n",
            "2020-07-26 04:36:07,213 - ERROR - downloader - Exception caught when downloading file https://ii.hywly.com/a/1/30922/1.jpg, error: HTTPSConnectionPool(host='ii.hywly.com', port=443): Max retries exceeded with url: /a/1/30922/1.jpg (Caused by NewConnectionError('<urllib3.connection.VerifiedHTTPSConnection object at 0x7efee5b85a90>: Failed to establish a new connection: [Errno -2] Name or service not known',)), remaining retry times: 0\n",
            "2020-07-26 04:36:09,235 - INFO - downloader - image #22\thttps://i1.wp.com/polonews.tw/wp-content/uploads/2016/11/nanami13.jpg\n",
            "2020-07-26 04:36:09,341 - INFO - downloader - image #23\thttp://www.meinvsj.com/uploads/allimg/170709/10-1FF9160421.jpg\n",
            "2020-07-26 04:36:09,576 - INFO - downloader - image #24\thttps://newimg.uumtu.com/Ximg/2015/1216/03/145023397190530.jpg\n",
            "2020-07-26 04:36:09,623 - ERROR - downloader - Response status code 403, file http://img.xsnvshen.com/album/15855/16724/006.jpg\n",
            "2020-07-26 04:36:09,661 - INFO - parser - parsing result page https://www.bing.com/images/async?q=橋本奈々未&first=60\n",
            "2020-07-26 04:36:11,339 - INFO - downloader - image #25\thttps://cdn.v2ph.com/photos/xOwMJSGUC8BPD5wT.jpg\n",
            "2020-07-26 04:36:11,437 - INFO - downloader - image #26\thttp://www.meinvsj.com/uploads/allimg/170709/10-1FF9160422-50.jpg\n",
            "2020-07-26 04:36:13,316 - INFO - downloader - image #27\thttps://www.m1ok.com/upload/images/p1di55to3e17t33dl1lpo11pa1rsf16.jpg\n",
            "2020-07-26 04:36:15,444 - INFO - downloader - image #28\thttp://www.m1ok.com/upload/images/p1di55ls5vaoob231gqi9a912p6m.jpg\n",
            "2020-07-26 04:36:15,683 - INFO - downloader - image #29\thttp://torendosokuhou.com/wp-content/uploads/2016/10/7a99bc555563c3713d1848959c157dd2.jpg\n",
            "2020-07-26 04:36:16,693 - INFO - downloader - image #30\thttps://cdn.v2ph.com/photos/pw9vdkR6XLdvuwXR.jpg\n",
            "2020-07-26 04:36:17,378 - INFO - downloader - image #31\thttp://www.m1ok.com/upload/images/p1di55bcu8m923rnl5b1aclhde3.jpg\n",
            "2020-07-26 04:36:17,901 - INFO - parser - parsing result page https://www.bing.com/images/async?q=橋本奈々未&first=80\n",
            "2020-07-26 04:36:20,383 - ERROR - downloader - Exception caught when downloading file https://img.onvshen.com:85/gallery/15855/16724/002.jpg, error: Exceeded 30 redirects., remaining retry times: 2\n",
            "2020-07-26 04:36:23,177 - ERROR - downloader - Exception caught when downloading file https://img.onvshen.com:85/gallery/15855/16724/002.jpg, error: Exceeded 30 redirects., remaining retry times: 1\n",
            "2020-07-26 04:36:26,009 - ERROR - downloader - Exception caught when downloading file https://img.onvshen.com:85/gallery/15855/16724/002.jpg, error: Exceeded 30 redirects., remaining retry times: 0\n",
            "2020-07-26 04:36:26,168 - INFO - downloader - image #32\thttps://data.whicdn.com/images/255839166/original.jpg\n",
            "2020-07-26 04:36:26,450 - INFO - downloader - image #33\thttps://newimg.uumtu.com/Ximg/2015/1216/03/145023393495649.jpg\n",
            "2020-07-26 04:36:26,464 - ERROR - downloader - Exception caught when downloading file https://ii.hywly.com/a/1/25447/13.jpg, error: HTTPSConnectionPool(host='ii.hywly.com', port=443): Max retries exceeded with url: /a/1/25447/13.jpg (Caused by NewConnectionError('<urllib3.connection.VerifiedHTTPSConnection object at 0x7efee5759b00>: Failed to establish a new connection: [Errno -2] Name or service not known',)), remaining retry times: 2\n",
            "2020-07-26 04:36:26,469 - ERROR - downloader - Exception caught when downloading file https://ii.hywly.com/a/1/25447/13.jpg, error: HTTPSConnectionPool(host='ii.hywly.com', port=443): Max retries exceeded with url: /a/1/25447/13.jpg (Caused by NewConnectionError('<urllib3.connection.VerifiedHTTPSConnection object at 0x7efee5f60d30>: Failed to establish a new connection: [Errno -2] Name or service not known',)), remaining retry times: 1\n",
            "2020-07-26 04:36:26,476 - ERROR - downloader - Exception caught when downloading file https://ii.hywly.com/a/1/25447/13.jpg, error: HTTPSConnectionPool(host='ii.hywly.com', port=443): Max retries exceeded with url: /a/1/25447/13.jpg (Caused by NewConnectionError('<urllib3.connection.VerifiedHTTPSConnection object at 0x7efee5f60e10>: Failed to establish a new connection: [Errno -2] Name or service not known',)), remaining retry times: 0\n",
            "2020-07-26 04:36:26,575 - INFO - downloader - image #34\thttp://www.meinvsj.com/uploads/allimg/170709/10-1FF9160418-50.jpg\n",
            "2020-07-26 04:36:26,621 - INFO - downloader - image #35\thttp://www.meinvsj.com/uploads/allimg/170709/10-1FF9160428-50.jpg\n",
            "2020-07-26 04:36:28,249 - INFO - downloader - image #36\thttps://cdn.v2ph.com/photos/RESRGSbCai2n1nCx.jpg\n",
            "2020-07-26 04:36:28,440 - INFO - downloader - image #37\thttp://www.meinvsj.com/uploads/allimg/170709/10-1FF9163240.jpg\n",
            "2020-07-26 04:36:28,601 - INFO - downloader - image #38\thttp://www.meinvsj.com/uploads/allimg/170709/10-1FF9160408.jpg\n",
            "2020-07-26 04:36:28,699 - ERROR - downloader - Response status code 404, file http://auctions.c.yimg.jp/images.auctions.yahoo.co.jp/image/ra186/users/5/8/3/9/hart0908-img600x450-1461365097xt4hms24651.jpg\n",
            "2020-07-26 04:36:28,833 - INFO - downloader - image #39\thttp://www.meinvsj.com/uploads/allimg/170709/10-1FF9163245.jpg\n",
            "2020-07-26 04:36:28,949 - INFO - downloader - image #40\thttp://www.meinvsj.com/uploads/allimg/170709/10-1FF9163251.jpg\n",
            "2020-07-26 04:36:30,701 - INFO - parser - no more page urls for thread parser-001 to parse\n",
            "2020-07-26 04:36:30,703 - INFO - parser - thread parser-001 exit\n",
            "2020-07-26 04:36:31,528 - INFO - downloader - image #41\thttps://img.vmeiji.com/uploads/allimg/1901/1-1Z114162004.jpg\n",
            "2020-07-26 04:36:31,771 - INFO - downloader - image #42\thttps://img.ruten.com.tw/s1/b/bf/af/21708340094895_918.jpg\n",
            "2020-07-26 04:36:33,446 - INFO - downloader - image #43\thttps://www.m1ok.com/upload/images/p1di55to3elc4uj219annunahf11.jpg\n",
            "2020-07-26 04:36:33,503 - ERROR - downloader - Response status code 404, file http://auctions.c.yimg.jp/images.auctions.yahoo.co.jp/image/ra235/users/7/2/3/0/masa48uchi-img435x599-1469974036ljr7bk27660.jpg\n",
            "2020-07-26 04:36:38,504 - INFO - downloader - no more download task for thread downloader-001\n",
            "2020-07-26 04:36:38,505 - INFO - downloader - thread downloader-001 exit\n",
            "2020-07-26 04:36:38,594 - INFO - icrawler.crawler - Crawling task done!\n"
          ],
          "name": "stderr"
        }
      ]
    },
    {
      "cell_type": "markdown",
      "metadata": {
        "id": "I5qt6hz1W_Pr",
        "colab_type": "text"
      },
      "source": [
        "# Google画像検索"
      ]
    },
    {
      "cell_type": "code",
      "metadata": {
        "id": "fXMhTLKiOLjB",
        "colab_type": "code",
        "colab": {
          "base_uri": "https://localhost:8080/",
          "height": 647
        },
        "outputId": "f32559db-1488-4a67-ea9e-280c1e42284d"
      },
      "source": [
        "import requests\n",
        "import random\n",
        "import shutil\n",
        "import bs4\n",
        "import ssl\n",
        "\n",
        "ssl._create_default_https_context = ssl._create_unverified_context\n",
        "def image(data):\n",
        "    if not 'gif' in data:\n",
        "    \n",
        "        Res = requests.get(\"https://www.google.com/search?hl=jp&q=\" + data + \"&btnG=Google+Search&tbs=0&safe=off&tbm=isch\")\n",
        "        Html = Res.text\n",
        "        Soup = bs4.BeautifulSoup(Html,'lxml')\n",
        "        links = Soup.find_all(\"img\")\n",
        "        link = random.choice(links).get(\"src\")\n",
        "        return link\n",
        "def download_img(url, file_name):\n",
        "    if not 'gif' in url:\n",
        "        r = requests.get(url, stream=True)\n",
        "        if r.status_code == 200:\n",
        "            with open('/content/nanamin/'+file_name+\".jpeg\", 'wb') as f:\n",
        "                r.raw.decode_content = True\n",
        "                shutil.copyfileobj(r.raw, f)\n",
        "\n",
        "\n",
        "while True:\n",
        "    num = input(\"検索回数:\")\n",
        "    data = input(\"検索ワード:\")\n",
        "    if data !=[]:\n",
        "        for i in range(200):\n",
        "            link = image(data)\n",
        "            download_img(link, str(i))\n",
        "        print(\"OK\")\n"
      ],
      "execution_count": null,
      "outputs": [
        {
          "output_type": "stream",
          "text": [
            "検索回数:200\n",
            "検索ワード:橋本奈々未\n",
            "OK\n"
          ],
          "name": "stdout"
        },
        {
          "output_type": "error",
          "ename": "KeyboardInterrupt",
          "evalue": "ignored",
          "traceback": [
            "\u001b[0;31m---------------------------------------------------------------------------\u001b[0m",
            "\u001b[0;31mKeyboardInterrupt\u001b[0m                         Traceback (most recent call last)",
            "\u001b[0;32m/usr/local/lib/python3.6/dist-packages/ipykernel/kernelbase.py\u001b[0m in \u001b[0;36m_input_request\u001b[0;34m(self, prompt, ident, parent, password)\u001b[0m\n\u001b[1;32m    728\u001b[0m             \u001b[0;32mtry\u001b[0m\u001b[0;34m:\u001b[0m\u001b[0;34m\u001b[0m\u001b[0;34m\u001b[0m\u001b[0m\n\u001b[0;32m--> 729\u001b[0;31m                 \u001b[0mident\u001b[0m\u001b[0;34m,\u001b[0m \u001b[0mreply\u001b[0m \u001b[0;34m=\u001b[0m \u001b[0mself\u001b[0m\u001b[0;34m.\u001b[0m\u001b[0msession\u001b[0m\u001b[0;34m.\u001b[0m\u001b[0mrecv\u001b[0m\u001b[0;34m(\u001b[0m\u001b[0mself\u001b[0m\u001b[0;34m.\u001b[0m\u001b[0mstdin_socket\u001b[0m\u001b[0;34m,\u001b[0m \u001b[0;36m0\u001b[0m\u001b[0;34m)\u001b[0m\u001b[0;34m\u001b[0m\u001b[0;34m\u001b[0m\u001b[0m\n\u001b[0m\u001b[1;32m    730\u001b[0m             \u001b[0;32mexcept\u001b[0m \u001b[0mException\u001b[0m\u001b[0;34m:\u001b[0m\u001b[0;34m\u001b[0m\u001b[0;34m\u001b[0m\u001b[0m\n",
            "\u001b[0;32m/usr/local/lib/python3.6/dist-packages/jupyter_client/session.py\u001b[0m in \u001b[0;36mrecv\u001b[0;34m(self, socket, mode, content, copy)\u001b[0m\n\u001b[1;32m    802\u001b[0m         \u001b[0;32mtry\u001b[0m\u001b[0;34m:\u001b[0m\u001b[0;34m\u001b[0m\u001b[0;34m\u001b[0m\u001b[0m\n\u001b[0;32m--> 803\u001b[0;31m             \u001b[0mmsg_list\u001b[0m \u001b[0;34m=\u001b[0m \u001b[0msocket\u001b[0m\u001b[0;34m.\u001b[0m\u001b[0mrecv_multipart\u001b[0m\u001b[0;34m(\u001b[0m\u001b[0mmode\u001b[0m\u001b[0;34m,\u001b[0m \u001b[0mcopy\u001b[0m\u001b[0;34m=\u001b[0m\u001b[0mcopy\u001b[0m\u001b[0;34m)\u001b[0m\u001b[0;34m\u001b[0m\u001b[0;34m\u001b[0m\u001b[0m\n\u001b[0m\u001b[1;32m    804\u001b[0m         \u001b[0;32mexcept\u001b[0m \u001b[0mzmq\u001b[0m\u001b[0;34m.\u001b[0m\u001b[0mZMQError\u001b[0m \u001b[0;32mas\u001b[0m \u001b[0me\u001b[0m\u001b[0;34m:\u001b[0m\u001b[0;34m\u001b[0m\u001b[0;34m\u001b[0m\u001b[0m\n",
            "\u001b[0;32m/usr/local/lib/python3.6/dist-packages/zmq/sugar/socket.py\u001b[0m in \u001b[0;36mrecv_multipart\u001b[0;34m(self, flags, copy, track)\u001b[0m\n\u001b[1;32m    474\u001b[0m         \"\"\"\n\u001b[0;32m--> 475\u001b[0;31m         \u001b[0mparts\u001b[0m \u001b[0;34m=\u001b[0m \u001b[0;34m[\u001b[0m\u001b[0mself\u001b[0m\u001b[0;34m.\u001b[0m\u001b[0mrecv\u001b[0m\u001b[0;34m(\u001b[0m\u001b[0mflags\u001b[0m\u001b[0;34m,\u001b[0m \u001b[0mcopy\u001b[0m\u001b[0;34m=\u001b[0m\u001b[0mcopy\u001b[0m\u001b[0;34m,\u001b[0m \u001b[0mtrack\u001b[0m\u001b[0;34m=\u001b[0m\u001b[0mtrack\u001b[0m\u001b[0;34m)\u001b[0m\u001b[0;34m]\u001b[0m\u001b[0;34m\u001b[0m\u001b[0;34m\u001b[0m\u001b[0m\n\u001b[0m\u001b[1;32m    476\u001b[0m         \u001b[0;31m# have first part already, only loop while more to receive\u001b[0m\u001b[0;34m\u001b[0m\u001b[0;34m\u001b[0m\u001b[0;34m\u001b[0m\u001b[0m\n",
            "\u001b[0;32mzmq/backend/cython/socket.pyx\u001b[0m in \u001b[0;36mzmq.backend.cython.socket.Socket.recv\u001b[0;34m()\u001b[0m\n",
            "\u001b[0;32mzmq/backend/cython/socket.pyx\u001b[0m in \u001b[0;36mzmq.backend.cython.socket.Socket.recv\u001b[0;34m()\u001b[0m\n",
            "\u001b[0;32mzmq/backend/cython/socket.pyx\u001b[0m in \u001b[0;36mzmq.backend.cython.socket._recv_copy\u001b[0;34m()\u001b[0m\n",
            "\u001b[0;32m/usr/local/lib/python3.6/dist-packages/zmq/backend/cython/checkrc.pxd\u001b[0m in \u001b[0;36mzmq.backend.cython.checkrc._check_rc\u001b[0;34m()\u001b[0m\n",
            "\u001b[0;31mKeyboardInterrupt\u001b[0m: ",
            "\nDuring handling of the above exception, another exception occurred:\n",
            "\u001b[0;31mKeyboardInterrupt\u001b[0m                         Traceback (most recent call last)",
            "\u001b[0;32m<ipython-input-4-2ed700c904ad>\u001b[0m in \u001b[0;36m<module>\u001b[0;34m()\u001b[0m\n\u001b[1;32m     25\u001b[0m \u001b[0;34m\u001b[0m\u001b[0m\n\u001b[1;32m     26\u001b[0m \u001b[0;32mwhile\u001b[0m \u001b[0;32mTrue\u001b[0m\u001b[0;34m:\u001b[0m\u001b[0;34m\u001b[0m\u001b[0;34m\u001b[0m\u001b[0m\n\u001b[0;32m---> 27\u001b[0;31m     \u001b[0mnum\u001b[0m \u001b[0;34m=\u001b[0m \u001b[0minput\u001b[0m\u001b[0;34m(\u001b[0m\u001b[0;34m\"検索回数:\"\u001b[0m\u001b[0;34m)\u001b[0m\u001b[0;34m\u001b[0m\u001b[0;34m\u001b[0m\u001b[0m\n\u001b[0m\u001b[1;32m     28\u001b[0m     \u001b[0mdata\u001b[0m \u001b[0;34m=\u001b[0m \u001b[0minput\u001b[0m\u001b[0;34m(\u001b[0m\u001b[0;34m\"検索ワード:\"\u001b[0m\u001b[0;34m)\u001b[0m\u001b[0;34m\u001b[0m\u001b[0;34m\u001b[0m\u001b[0m\n\u001b[1;32m     29\u001b[0m     \u001b[0;32mif\u001b[0m \u001b[0mdata\u001b[0m \u001b[0;34m!=\u001b[0m\u001b[0;34m[\u001b[0m\u001b[0;34m]\u001b[0m\u001b[0;34m:\u001b[0m\u001b[0;34m\u001b[0m\u001b[0;34m\u001b[0m\u001b[0m\n",
            "\u001b[0;32m/usr/local/lib/python3.6/dist-packages/ipykernel/kernelbase.py\u001b[0m in \u001b[0;36mraw_input\u001b[0;34m(self, prompt)\u001b[0m\n\u001b[1;32m    702\u001b[0m             \u001b[0mself\u001b[0m\u001b[0;34m.\u001b[0m\u001b[0m_parent_ident\u001b[0m\u001b[0;34m,\u001b[0m\u001b[0;34m\u001b[0m\u001b[0;34m\u001b[0m\u001b[0m\n\u001b[1;32m    703\u001b[0m             \u001b[0mself\u001b[0m\u001b[0;34m.\u001b[0m\u001b[0m_parent_header\u001b[0m\u001b[0;34m,\u001b[0m\u001b[0;34m\u001b[0m\u001b[0;34m\u001b[0m\u001b[0m\n\u001b[0;32m--> 704\u001b[0;31m             \u001b[0mpassword\u001b[0m\u001b[0;34m=\u001b[0m\u001b[0;32mFalse\u001b[0m\u001b[0;34m,\u001b[0m\u001b[0;34m\u001b[0m\u001b[0;34m\u001b[0m\u001b[0m\n\u001b[0m\u001b[1;32m    705\u001b[0m         )\n\u001b[1;32m    706\u001b[0m \u001b[0;34m\u001b[0m\u001b[0m\n",
            "\u001b[0;32m/usr/local/lib/python3.6/dist-packages/ipykernel/kernelbase.py\u001b[0m in \u001b[0;36m_input_request\u001b[0;34m(self, prompt, ident, parent, password)\u001b[0m\n\u001b[1;32m    732\u001b[0m             \u001b[0;32mexcept\u001b[0m \u001b[0mKeyboardInterrupt\u001b[0m\u001b[0;34m:\u001b[0m\u001b[0;34m\u001b[0m\u001b[0;34m\u001b[0m\u001b[0m\n\u001b[1;32m    733\u001b[0m                 \u001b[0;31m# re-raise KeyboardInterrupt, to truncate traceback\u001b[0m\u001b[0;34m\u001b[0m\u001b[0;34m\u001b[0m\u001b[0;34m\u001b[0m\u001b[0m\n\u001b[0;32m--> 734\u001b[0;31m                 \u001b[0;32mraise\u001b[0m \u001b[0mKeyboardInterrupt\u001b[0m\u001b[0;34m\u001b[0m\u001b[0;34m\u001b[0m\u001b[0m\n\u001b[0m\u001b[1;32m    735\u001b[0m             \u001b[0;32melse\u001b[0m\u001b[0;34m:\u001b[0m\u001b[0;34m\u001b[0m\u001b[0;34m\u001b[0m\u001b[0m\n\u001b[1;32m    736\u001b[0m                 \u001b[0;32mbreak\u001b[0m\u001b[0;34m\u001b[0m\u001b[0;34m\u001b[0m\u001b[0m\n",
            "\u001b[0;31mKeyboardInterrupt\u001b[0m: "
          ]
        }
      ]
    },
    {
      "cell_type": "markdown",
      "metadata": {
        "id": "PTnrXIJiYtCo",
        "colab_type": "text"
      },
      "source": [
        "# ファイル名変更"
      ]
    },
    {
      "cell_type": "code",
      "metadata": {
        "id": "gdABVn5GUgOV",
        "colab_type": "code",
        "colab": {}
      },
      "source": [
        "import os\n",
        "import glob\n",
        "\n",
        "\n",
        "path = \"/content/hasimoto\"\n",
        "files = glob.glob(path + '/*')\n",
        "\n",
        "for i, f in enumerate(files):\n",
        "    ftitle, fext = os.path.splitext(f)\n",
        "    os.rename(f, ftitle + '_t' + '{}'.format(i) + fext)"
      ],
      "execution_count": null,
      "outputs": []
    }
  ]
}